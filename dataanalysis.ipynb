{
 "cells": [
  {
   "cell_type": "code",
   "execution_count": 2,
   "metadata": {},
   "outputs": [],
   "source": [
    "import pandas as pd\n",
    "import glob, os    \n",
    "import matplotlib.pyplot as plt\n",
    "import seaborn as sns"
   ]
  },
  {
   "cell_type": "code",
   "execution_count": 4,
   "metadata": {},
   "outputs": [],
   "source": [
    "datapath=\"/Users/soni6/Box/Study/Project/Case Studies/dataset\"\n",
    "demanddata = pd.concat(map(pd.read_csv, glob.glob(os.path.join(datapath, \"DeliveryData/DeliveryData*.csv\"))))\n",
    "demanddata.drop(columns=[\"Unnamed: 0\"],inplace=True)\n",
    "demanddata.columns\n",
    "# zip\n",
    "zip_codes=pd.concat(map(pd.read_csv, glob.glob(os.path.join(datapath, \"ZIP CODE.csv\"))))\n",
    "zip_codes=list(zip_codes.columns)\n",
    "zip_codes=[int(i) for i in zip_codes]"
   ]
  },
  {
   "cell_type": "code",
   "execution_count": 66,
   "metadata": {},
   "outputs": [],
   "source": [
    "zipdemand=demanddata.groupby(['customer ZIP','scenario']).agg({'quantity':'sum'})\n",
    "zipdemand.reset_index(inplace=True)"
   ]
  },
  {
   "cell_type": "code",
   "execution_count": null,
   "metadata": {
    "scrolled": true
   },
   "outputs": [],
   "source": [
    "for zipcode in zip_codes[:20]:    \n",
    "    fig = plt.figure(figsize=(5, 3)) #Create figure space\n",
    "    zip_index=zipdemand['customer ZIP']==zipcode\n",
    "    plt.hist(zipdemand[zip_index]['quantity'],bins=30,label=zipcode)\n",
    "    plt.xlabel('Demand')\n",
    "    plt.ylabel('Number of scenarios')\n",
    "    plt.legend()\n"
   ]
  },
  {
   "cell_type": "code",
   "execution_count": null,
   "metadata": {
    "scrolled": true
   },
   "outputs": [],
   "source": [
    "for zipcode in zip_codes[:20]:    \n",
    "    fig = plt.figure(figsize=(5, 3)) #Create figure space\n",
    "    zip_index=zipdemand['customer ZIP']==zipcode\n",
    "    sns.lineplot(data=zipdemand[zip_index], x=\"scenario\", y=\"quantity\",label=zipcode)"
   ]
  },
  {
   "cell_type": "code",
   "execution_count": 8,
   "metadata": {},
   "outputs": [
    {
     "data": {
      "text/html": [
       "<div>\n",
       "<style scoped>\n",
       "    .dataframe tbody tr th:only-of-type {\n",
       "        vertical-align: middle;\n",
       "    }\n",
       "\n",
       "    .dataframe tbody tr th {\n",
       "        vertical-align: top;\n",
       "    }\n",
       "\n",
       "    .dataframe thead th {\n",
       "        text-align: right;\n",
       "    }\n",
       "</style>\n",
       "<table border=\"1\" class=\"dataframe\">\n",
       "  <thead>\n",
       "    <tr style=\"text-align: right;\">\n",
       "      <th></th>\n",
       "      <th>origin facility</th>\n",
       "      <th>customer ZIP</th>\n",
       "      <th>scenario</th>\n",
       "      <th>quantity</th>\n",
       "    </tr>\n",
       "  </thead>\n",
       "  <tbody>\n",
       "    <tr>\n",
       "      <td>0</td>\n",
       "      <td>ONode0</td>\n",
       "      <td>90001</td>\n",
       "      <td>0</td>\n",
       "      <td>80</td>\n",
       "    </tr>\n",
       "    <tr>\n",
       "      <td>1</td>\n",
       "      <td>ONode0</td>\n",
       "      <td>90001</td>\n",
       "      <td>1</td>\n",
       "      <td>78</td>\n",
       "    </tr>\n",
       "    <tr>\n",
       "      <td>2</td>\n",
       "      <td>ONode0</td>\n",
       "      <td>90001</td>\n",
       "      <td>2</td>\n",
       "      <td>79</td>\n",
       "    </tr>\n",
       "    <tr>\n",
       "      <td>3</td>\n",
       "      <td>ONode0</td>\n",
       "      <td>90001</td>\n",
       "      <td>3</td>\n",
       "      <td>50</td>\n",
       "    </tr>\n",
       "    <tr>\n",
       "      <td>4</td>\n",
       "      <td>ONode0</td>\n",
       "      <td>90001</td>\n",
       "      <td>4</td>\n",
       "      <td>77</td>\n",
       "    </tr>\n",
       "  </tbody>\n",
       "</table>\n",
       "</div>"
      ],
      "text/plain": [
       "  origin facility  customer ZIP  scenario  quantity\n",
       "0          ONode0         90001         0        80\n",
       "1          ONode0         90001         1        78\n",
       "2          ONode0         90001         2        79\n",
       "3          ONode0         90001         3        50\n",
       "4          ONode0         90001         4        77"
      ]
     },
     "execution_count": 8,
     "metadata": {},
     "output_type": "execute_result"
    }
   ],
   "source": [
    "# commodity demand\n",
    "commodity_demand=demanddata.groupby(['origin facility','customer ZIP','scenario']).agg({'quantity':'sum'})\n",
    "commodity_demand.reset_index(inplace=True)\n"
   ]
  },
  {
   "cell_type": "code",
   "execution_count": null,
   "metadata": {},
   "outputs": [],
   "source": [
    "# o-d demand analysis: normal and exponential\n",
    "import numpy as np\n",
    "for zipcode in zip_codes:    \n",
    "    for ori_node in set(commodity_demand['origin facility']):\n",
    "        od_demand= commodity_demand.loc[np.logical_and(commodity_demand['customer ZIP'] == zipcode, commodity_demand['origin facility'] == ori_node)]\n",
    "        fig = plt.figure(figsize=(10, 6)) #Create figure space\n",
    "        name=str(ori_node)+ \"-\" + str(zipcode)\n",
    "        plt.hist(od_demand['quantity'],bins=30,label=name)\n",
    "        plt.xlabel('Demand')\n",
    "        plt.ylabel('Number of scenarios')\n",
    "        plt.legend()\n",
    "        plt.savefig('input analysis/'+name+'.png')\n",
    "        plt.close(fig)\n"
   ]
  },
  {
   "cell_type": "code",
   "execution_count": null,
   "metadata": {},
   "outputs": [],
   "source": [
    "# demand analysis with scenario: seasonality-no conclusion\n",
    "for zipcode in zip_codes[:20]:    \n",
    "    od_demand= commodity_demand.loc[np.logical_and(commodity_demand['customer ZIP'] == zipcode, commodity_demand['origin facility'] == ori_node)]\n",
    "    name=str(ori_node)+ \"-\" + str(zipcode)\n",
    "    fig = plt.figure(figsize=(5, 3)) #Create figure space\n",
    "    sns.lineplot(data=od_demand, x=\"scenario\", y=\"quantity\",label=name)"
   ]
  },
  {
   "cell_type": "code",
   "execution_count": null,
   "metadata": {},
   "outputs": [],
   "source": []
  }
 ],
 "metadata": {
  "kernelspec": {
   "display_name": "Python 3",
   "language": "python",
   "name": "python3"
  },
  "language_info": {
   "codemirror_mode": {
    "name": "ipython",
    "version": 3
   },
   "file_extension": ".py",
   "mimetype": "text/x-python",
   "name": "python",
   "nbconvert_exporter": "python",
   "pygments_lexer": "ipython3",
   "version": "3.7.4"
  }
 },
 "nbformat": 4,
 "nbformat_minor": 4
}
